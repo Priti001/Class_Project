{
 "cells": [
  {
   "cell_type": "code",
   "execution_count": 1,
   "metadata": {},
   "outputs": [],
   "source": [
    "import os\n",
    "import pandas as pd\n",
    "import numpy as np\n",
    "import matplotlib.pyplot as plt\n",
    "\n",
    "data_2015 = os.path.join('sb_ca2015_all_csv_v3.txt')\n",
    "data_2015_df = pd.read_csv(data_2015)\n",
    "\n",
    "data_2016 = os.path.join('sb_ca2016_all_csv_v3.txt')\n",
    "data_2016_df = pd.read_csv(data_2016)\n",
    "\n",
    "data_2017 = os.path.join('sb_ca2017_all_csv_v2.txt')\n",
    "data_2017_df = pd.read_csv(data_2017)\n",
    "\n",
    "subgroups = os.path.join('Subgroups.txt')\n",
    "subgroups_df = pd.read_csv(subgroups, header=None)\n",
    "\n",
    "tests = os.path.join('Tests.txt')\n",
    "tests_df = pd.read_csv(tests)\n",
    "\n",
    "schools = os.path.join('pubschls.txt')\n",
    "schools_df = pd.read_csv(schools, sep='\\t')\n",
    "\n",
    "#schools_df.head()"
   ]
  },
  {
   "cell_type": "code",
   "execution_count": 2,
   "metadata": {},
   "outputs": [],
   "source": [
    "schools_df['CDSCode'] = schools_df['CDSCode'].astype(str)\n",
    "schools_df['School Code'] = schools_df['CDSCode'].str[-7:]\n",
    "schools_df['School Code'] = schools_df['School Code'].astype(float)"
   ]
  },
  {
   "cell_type": "code",
   "execution_count": 3,
   "metadata": {},
   "outputs": [
    {
     "data": {
      "text/plain": [
       "(9584749, 38)"
      ]
     },
     "execution_count": 3,
     "metadata": {},
     "output_type": "execute_result"
    }
   ],
   "source": [
    "data = [data_2015_df, data_2016_df, data_2017_df]\n",
    "data = pd.concat(data)\n",
    "data.shape"
   ]
  },
  {
   "cell_type": "code",
   "execution_count": 4,
   "metadata": {},
   "outputs": [
    {
     "data": {
      "text/plain": [
       "(261804, 38)"
      ]
     },
     "execution_count": 4,
     "metadata": {},
     "output_type": "execute_result"
    }
   ],
   "source": [
    "data = data[data['School Code'] != 0]\n",
    "data = data[data['Subgroup ID'] == 1]\n",
    "data.shape"
   ]
  },
  {
   "cell_type": "code",
   "execution_count": 5,
   "metadata": {
    "collapsed": true
   },
   "outputs": [],
   "source": [
    "data = pd.merge(data, schools_df, how='left', on='School Code')"
   ]
  },
  {
   "cell_type": "code",
   "execution_count": 6,
   "metadata": {},
   "outputs": [
    {
     "data": {
      "text/plain": [
       "(234835, 89)"
      ]
     },
     "execution_count": 6,
     "metadata": {},
     "output_type": "execute_result"
    }
   ],
   "source": [
    "data = data[data['Percentage Standard Exceeded'] != '*']\n",
    "data = pd.merge(data, tests_df, how='left', on='Test Id')\n",
    "data.shape"
   ]
  },
  {
   "cell_type": "code",
   "execution_count": 7,
   "metadata": {
    "collapsed": true
   },
   "outputs": [],
   "source": [
    "data['Percentage Standard Met and Above'] = data['Percentage Standard Met and Above'].astype(float)\n",
    "data['City'] = data['City'].astype(str)\n",
    "data['Zip'] = data['Zip'].astype(str)\n",
    "data['EILName'] = data['EILName'].astype(str)\n",
    "data['GSoffered'] = data['GSoffered'].astype(str)\n",
    "data['EdOpsName'] = data['EdOpsName'].astype(str)\n",
    "data['SOCType'] = data['SOCType'].astype(str)\n",
    "data['Test Name'] = data['Test Name'].astype(str)"
   ]
  },
  {
   "cell_type": "code",
   "execution_count": 8,
   "metadata": {},
   "outputs": [],
   "source": [
    "data_summary = data.groupby(['School', 'County', 'District', 'Grade', 'Test Name', 'City', 'EILName', 'GSoffered', 'EdOpsName', 'SOCType', 'School Code']).agg({'Percentage Standard Met and Above': ['mean']}).rename(columns={'mean': '2015-2017 Avg Percentage Standard Met and Above'})\n",
    "\n",
    "rounding = lambda x: round(x, 2)\n",
    "data_summary = data_summary.apply(rounding)\n",
    "data_summary.columns = data_summary.columns.droplevel()\n",
    "data_summary = data_summary.reset_index()\n",
    "data_summary['Test Name'] = data_summary['Test Name'].str[5:]\n",
    "bins = [0, 6, 9, 14]\n",
    "group_names = ['Elementary School', 'Middle School', 'High School']\n",
    "data_summary['School Type by Grade #'] = pd.cut(data_summary['Grade'], bins, labels = group_names)\n",
    "#data_summary"
   ]
  },
  {
   "cell_type": "code",
   "execution_count": 9,
   "metadata": {
    "collapsed": true
   },
   "outputs": [],
   "source": [
    "data_summary.to_csv(\"School_Scores_Data_Summary_v2.csv\", index=False, header=True)"
   ]
  },
  {
   "cell_type": "code",
   "execution_count": 10,
   "metadata": {},
   "outputs": [],
   "source": [
    "county_school_summary = data_summary.groupby(['County', 'Test Name']).agg({'2015-2017 Avg Percentage Standard Met and Above': ['mean']}).rename(columns={'mean': '2015-2017 Avg Percentage Standard Met and Above'})\n",
    "county_school_summary = county_school_summary.apply(rounding)\n",
    "county_school_summary.columns = county_school_summary.columns.droplevel()\n",
    "county_school_summary = county_school_summary.reset_index()\n",
    "#county_school_summary"
   ]
  },
  {
   "cell_type": "code",
   "execution_count": 11,
   "metadata": {},
   "outputs": [
    {
     "data": {
      "image/png": "[encoded data removed]",
      "text/plain": [
       "<matplotlib.figure.Figure at 0x10e38b9b0>"
      ]
     },
     "metadata": {},
     "output_type": "display_data"
    }
   ],
   "source": [
    "types = county_school_summary['Test Name'].unique()\n",
    "colors = ['orange', 'darkblue']\n",
    "scores = county_school_summary['2015-2017 Avg Percentage Standard Met and Above']\n",
    "counties = county_school_summary['County']\n",
    "x_values = np.arange(len(counties))\n",
    "barlist = plt.bar(x_values, scores, alpha=0.75, tick_label=counties, align=\"edge\")\n",
    "tick_locations = [value+0.4 for value in x_values]\n",
    "plt.xticks(tick_locations, rotation='vertical', size=7.5, )\n",
    "plt.xlim(-0.25, len(x_values))\n",
    "plt.gcf().set_size_inches(17, 6)\n",
    "for i in range(len(barlist)):\n",
    "    if i % 2 == 0:\n",
    "        barlist[i].set_color(colors[0])\n",
    "    else:\n",
    "        barlist[i].set_color(colors[1])\n",
    "        \n",
    "plt.title(\"Avg % Standard Met and Above by County: English(orange) & Math(blue)\")\n",
    "plt.ylabel(\"Percentage\")\n",
    "plt.savefig(\"County_Scores.png\")\n",
    "plt.show()"
   ]
  },
  {
   "cell_type": "code",
   "execution_count": 12,
   "metadata": {},
   "outputs": [],
   "source": [
    "DelNorte_scores = county_school_summary.loc[(county_school_summary['County'] == 'Del Norte') & (county_school_summary['Test Name'] == 'Mathematics')]\n",
    "Lake_scores = county_school_summary.loc[(county_school_summary['County'] == 'Lake') & (county_school_summary['Test Name'] == 'Mathematics')]\n",
    "Inyo_scores = county_school_summary.loc[(county_school_summary['County'] == 'Inyo') & (county_school_summary['Test Name'] == 'Mathematics')]\n",
    "Marin_scores = county_school_summary.loc[(county_school_summary['County'] == 'Marin') & (county_school_summary['Test Name'] == 'Mathematics')]\n",
    "Placer_scores = county_school_summary.loc[(county_school_summary['County'] == 'Placer') & (county_school_summary['Test Name'] == 'Mathematics')]\n",
    "SantaClara_scores = county_school_summary.loc[(county_school_summary['County'] == 'Santa Clara') & (county_school_summary['Test Name'] == 'Mathematics')]"
   ]
  },
  {
   "cell_type": "code",
   "execution_count": 13,
   "metadata": {},
   "outputs": [],
   "source": [
    "city_school_summary = data_summary.groupby(['City', 'Test Name']).agg({'2015-2017 Avg Percentage Standard Met and Above': ['mean']}).rename(columns={'mean': '2015-2017 Avg Percentage Standard Met and Above'})\n",
    "city_school_summary = city_school_summary.apply(rounding)\n",
    "city_school_summary.columns = city_school_summary.columns.droplevel()\n",
    "city_school_summary = city_school_summary.reset_index()\n",
    "#city_school_summary.head()"
   ]
  },
  {
   "cell_type": "code",
   "execution_count": 14,
   "metadata": {
    "collapsed": true
   },
   "outputs": [],
   "source": [
    "Marin = os.path.join('Marin.csv')\n",
    "Marin_df = pd.read_csv(Marin)\n",
    "Marin_cost = round(Marin_df['MedianSoldPrice_AllHomes'].mean(), 2)\n",
    "\n",
    "DelNorte = os.path.join('DelNorte.csv')\n",
    "DelNorte_df = pd.read_csv(DelNorte)\n",
    "DelNorte_cost = round(DelNorte_df['MedianSoldPrice_AllHomes'].mean(), 2)\n",
    "\n",
    "Lake = os.path.join('Lake.csv')\n",
    "Lake_df = pd.read_csv(Lake)\n",
    "Lake_cost = round(Lake_df['MedianSoldPrice_AllHomes'].mean(), 2)\n",
    "\n",
    "Inyo = os.path.join('Inyo.csv')\n",
    "Inyo_df = pd.read_csv(Inyo)\n",
    "Inyo_cost = round(Inyo_df['MedianSoldPrice_AllHomes'].mean(), 2)\n",
    "\n",
    "Placer = os.path.join('Placer.csv')\n",
    "Placer_df = pd.read_csv(Placer)\n",
    "Placer_cost = round(Placer_df['MedianSoldPrice_AllHomes'].mean(), 2)\n",
    "\n",
    "SantaClara = os.path.join('SantaClara.csv')\n",
    "SantaClara_df = pd.read_csv(SantaClara)\n",
    "SantaClara_cost = round(SantaClara_df['MedianSoldPrice_AllHomes'].mean(), 2)"
   ]
  },
  {
   "cell_type": "code",
   "execution_count": 15,
   "metadata": {},
   "outputs": [
    {
     "data": {
      "text/html": [
       "<div>\n",
       "<style>\n",
       "    .dataframe thead tr:only-child th {\n",
       "        text-align: right;\n",
       "    }\n",
       "\n",
       "    .dataframe thead th {\n",
       "        text-align: left;\n",
       "    }\n",
       "\n",
       "    .dataframe tbody tr th {\n",
       "        vertical-align: top;\n",
       "    }\n",
       "</style>\n",
       "<table border=\"1\" class=\"dataframe\">\n",
       "  <thead>\n",
       "    <tr style=\"text-align: right;\">\n",
       "      <th></th>\n",
       "      <th>County</th>\n",
       "      <th>County Home Cost</th>\n",
       "      <th>Test Name</th>\n",
       "      <th>2015-2017 Avg Percentage Standard Met and Above</th>\n",
       "    </tr>\n",
       "  </thead>\n",
       "  <tbody>\n",
       "    <tr>\n",
       "      <th>5</th>\n",
       "      <td>Santa Clara</td>\n",
       "      <td>734082.64</td>\n",
       "      <td>Mathematics</td>\n",
       "      <td>49.71</td>\n",
       "    </tr>\n",
       "    <tr>\n",
       "      <th>0</th>\n",
       "      <td>Marin</td>\n",
       "      <td>713700.87</td>\n",
       "      <td>Mathematics</td>\n",
       "      <td>54.93</td>\n",
       "    </tr>\n",
       "    <tr>\n",
       "      <th>4</th>\n",
       "      <td>Placer</td>\n",
       "      <td>338510.31</td>\n",
       "      <td>Mathematics</td>\n",
       "      <td>49.72</td>\n",
       "    </tr>\n",
       "    <tr>\n",
       "      <th>3</th>\n",
       "      <td>Inyo</td>\n",
       "      <td>253792.84</td>\n",
       "      <td>Mathematics</td>\n",
       "      <td>21.16</td>\n",
       "    </tr>\n",
       "    <tr>\n",
       "      <th>2</th>\n",
       "      <td>Lake</td>\n",
       "      <td>180231.73</td>\n",
       "      <td>Mathematics</td>\n",
       "      <td>19.27</td>\n",
       "    </tr>\n",
       "    <tr>\n",
       "      <th>1</th>\n",
       "      <td>Del Norte</td>\n",
       "      <td>171954.52</td>\n",
       "      <td>Mathematics</td>\n",
       "      <td>17.86</td>\n",
       "    </tr>\n",
       "  </tbody>\n",
       "</table>\n",
       "</div>"
      ],
      "text/plain": [
       "        County  County Home Cost    Test Name  \\\n",
       "5  Santa Clara         734082.64  Mathematics   \n",
       "0        Marin         713700.87  Mathematics   \n",
       "4       Placer         338510.31  Mathematics   \n",
       "3         Inyo         253792.84  Mathematics   \n",
       "2         Lake         180231.73  Mathematics   \n",
       "1    Del Norte         171954.52  Mathematics   \n",
       "\n",
       "   2015-2017 Avg Percentage Standard Met and Above  \n",
       "5                                            49.71  \n",
       "0                                            54.93  \n",
       "4                                            49.72  \n",
       "3                                            21.16  \n",
       "2                                            19.27  \n",
       "1                                            17.86  "
      ]
     },
     "execution_count": 15,
     "metadata": {},
     "output_type": "execute_result"
    }
   ],
   "source": [
    "extremes_df = pd.DataFrame()\n",
    "extremes_df['County'] = ['Marin', 'Del Norte', 'Lake', 'Inyo', 'Placer', 'Santa Clara']\n",
    "extremes_df['County Home Cost'] = [Marin_cost, DelNorte_cost, Lake_cost, Inyo_cost, Placer_cost, SantaClara_cost]\n",
    "scores = [DelNorte_scores, Lake_scores, Inyo_scores, Marin_scores, Placer_scores, SantaClara_scores]\n",
    "scores = pd.concat(scores)\n",
    "\n",
    "extremes_df = pd.merge(extremes_df, scores, how='left', on='County')\n",
    "extremes_df = extremes_df.sort_values(by=['County Home Cost'], ascending=False)\n",
    "extremes_df"
   ]
  },
  {
   "cell_type": "code",
   "execution_count": 16,
   "metadata": {},
   "outputs": [
    {
     "data": {
      "image/png": "[encoded data removed]",
      "text/plain": [
       "<matplotlib.figure.Figure at 0x1197c9550>"
      ]
     },
     "metadata": {},
     "output_type": "display_data"
    }
   ],
   "source": [
    "ax = extremes_df.plot.scatter(x='2015-2017 Avg Percentage Standard Met and Above', y='County Home Cost', alpha=0.5)\n",
    "for i, txt in enumerate(extremes_df.County):\n",
    "    ax.annotate(txt, (extremes_df['2015-2017 Avg Percentage Standard Met and Above'].iat[i],extremes_df['County Home Cost'].iat[i]))\n",
    "\n",
    "plt.title(\"Highest/Lowest County Math Scores vs County Home Cost\")\n",
    "plt.xlabel(\"Math Proficiency Rate\")\n",
    "plt.ylabel(\"Home Cost ($)\")\n",
    "plt.savefig(\"Extremes.png\")\n",
    "plt.show()"
   ]
  },
  {
   "cell_type": "code",
   "execution_count": null,
   "metadata": {
    "collapsed": true
   },
   "outputs": [],
   "source": []
  }
 ],
 "metadata": {
  "kernelspec": {
   "display_name": "Python 3",
   "language": "python",
   "name": "python3"
  },
  "language_info": {
   "codemirror_mode": {
    "name": "ipython",
    "version": 3
   },
   "file_extension": ".py",
   "mimetype": "text/x-python",
   "name": "python",
   "nbconvert_exporter": "python",
   "pygments_lexer": "ipython3",
   "version": "3.6.3"
  }
 },
 "nbformat": 4,
 "nbformat_minor": 2
}
