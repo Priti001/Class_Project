{
 "cells": [
  {
   "cell_type": "code",
   "execution_count": 1,
   "metadata": {},
   "outputs": [],
   "source": [
    "# %load Zillow_Explore_avl.py\n",
    "# Dependencies\n",
    "import sys\n",
    "import os\n",
    "import pandas as pd\n",
    "import numpy as np\n",
    "import matplotlib.pyplot as plt\n",
    "import time\n",
    "import datetime"
   ]
  },
  {
   "cell_type": "code",
   "execution_count": 3,
   "metadata": {},
   "outputs": [],
   "source": [
    "# ---------------\n",
    "# Replace with dataset_by_county structure and lookup\n",
    "# ---------------\n",
    "# Initialize directory structure relative to notebook location\n",
    "nb_loc = os.getcwd()\n",
    "zecon_dataset_loc = os.path.join(nb_loc,'datasets','zecon')\n",
    "datasets = os.listdir(zecon_dataset_loc)\n",
    "\n",
    "# hard-coded filenames to use\n",
    "files_used = ['City_time_series.csv',\n",
    "             'cities_crosswalk.csv']\n",
    "\n",
    "# Import fileData\n",
    "crosswalk = pd.read_csv(os.path.join(zecon_dataset_loc,files_used[1]))\n",
    "city_time_series = pd.read_csv(os.path.join(zecon_dataset_loc,files_used[0]))\n",
    "\n",
    "#Merge datasets\n",
    "combine = city_time_series.merge(crosswalk,right_on = 'Unique_City_ID', left_on = 'RegionName')\n",
    "ca_data = combine.loc[combine['State']=='CA']"
   ]
  },
  {
   "cell_type": "code",
   "execution_count": null,
   "metadata": {},
   "outputs": [],
   "source": [
    "def str2unix(s):\n",
    "    return time.mktime(datetime.datetime.strptime(s, \"%Y-%m-%d\").timetuple())\n",
    "def convert_timescale(x):\n",
    "    return x/(60*60*24*365)\n",
    "def extract_year(x):\n",
    "    return datetime.datetime.strptime(x, \"%Y-%m-%d\").timetuple().tm_year\n",
    "def express_as_year(x):\n",
    "    return convert_timescale(str2unix(x))%1+extract_year(x)"
   ]
  },
  {
   "cell_type": "code",
   "execution_count": null,
   "metadata": {},
   "outputs": [],
   "source": [
    "county_list = ca_data['County'].unique()\n",
    "figure_directory = 'County_Median_Price_Per_Sqft'\n",
    "# try:\n",
    "#     os.stat(figure_directory)\n",
    "# except:\n",
    "#     os.mkdir(figure_directory)\n",
    "for county in county_list:\n",
    "    this_county_data = ca_data.loc[ca_data['County']==county]\n",
    "    regions = this_county_data['City'].unique()\n",
    "    plt.figure(figsize=[20,10])\n",
    "    for region in regions:\n",
    "    #     plt.figure(figsize=[20,6])\n",
    "        dates = this_county_data.loc[sample['City']==region,'Date'].apply(express_as_year)\n",
    "        price = this_county_data.loc[sample['City']==region,'MedianSoldPricePerSqft_AllHomes']\n",
    "        plt.plot(dates,price,'.',label=region)\n",
    "    plt.title('Median Sold Price per Sq. Ft. for %s County' % (county))\n",
    "    plt.grid(True)\n",
    "    plt.ylabel('$/Sq.Ft.')\n",
    "    plt.xlabel('Years')\n",
    "    plt.legend()\n",
    "    plt.xlim([1995,2025])\n",
    "    \n",
    "    savepath = os.path.join(figure_directory,county.replace(' ','')+'.png')\n",
    "#     plt.savefig(savepath)\n",
    "#     plt.ylim([0,1000])\n",
    "    plt.show()"
   ]
  },
  {
   "cell_type": "code",
   "execution_count": 6,
   "metadata": {},
   "outputs": [],
   "source": [
    "combine_keys = combine.keys()\n",
    "metrics = pd.Series([key.split('_')[0] for key in combine_keys if '_'in key]).unique()\n",
    "modifiers = pd.Series([key.split('_')[1] for key in combine_keys if '_'in key]).unique()"
   ]
  },
  {
   "cell_type": "code",
   "execution_count": 7,
   "metadata": {},
   "outputs": [
    {
     "data": {
      "text/plain": [
       "array(['AllHomes', '1Bedroom', '2Bedroom', '3Bedroom', '4Bedroom',\n",
       "       '5BedroomOrMore', 'CondoCoop', 'DuplexTriplex',\n",
       "       'SingleFamilyResidence', 'MultiFamilyResidence5PlusUnits', 'Studio',\n",
       "       '1bedroom', '2bedroom', '3bedroom', '4bedroom', 'BottomTier',\n",
       "       'MiddleTier', 'TopTier', 'AllHomesPlusMultifamily',\n",
       "       'MultiFamilyResidenceRental', 'SingleFamilyResidenceRental', 'City'], dtype=object)"
      ]
     },
     "execution_count": 7,
     "metadata": {},
     "output_type": "execute_result"
    }
   ],
   "source": [
    "modifiers"
   ]
  },
  {
   "cell_type": "code",
   "execution_count": 8,
   "metadata": {},
   "outputs": [
    {
     "data": {
      "text/plain": [
       "array(['HomesSoldAsForeclosuresRatio', 'InventorySeasonallyAdjusted',\n",
       "       'InventoryRaw', 'MedianListingPricePerSqft', 'MedianListingPrice',\n",
       "       'MedianPctOfPriceReduction', 'MedianPriceCutDollar',\n",
       "       'MedianRentalPricePerSqft', 'MedianRentalPrice',\n",
       "       'MedianSoldPricePerSqft', 'MedianSoldPrice', 'ZHVIPerSqft',\n",
       "       'PctOfHomesDecreasingInValues', 'PctOfHomesIncreasingInValues',\n",
       "       'PctOfHomesSellingForGain', 'PctOfHomesSellingForLoss',\n",
       "       'PctOfListingsWithPriceReductionsSeasAdj',\n",
       "       'PctOfListingsWithPriceReductions',\n",
       "       'PctTransactionsThatArePreviouslyForeclosuredHomes',\n",
       "       'PriceToRentRatio', 'Turnover', 'ZHVI', 'ZRI', 'ZriPerSqft', 'Zri',\n",
       "       'Unique'], dtype=object)"
      ]
     },
     "execution_count": 8,
     "metadata": {},
     "output_type": "execute_result"
    }
   ],
   "source": [
    "metrics"
   ]
  },
  {
   "cell_type": "code",
   "execution_count": 14,
   "metadata": {},
   "outputs": [],
   "source": [
    "tree=[]\n",
    "for metric in metrics:\n",
    "    tree.append({metric:[key.split('_')[1] for key in combine_keys if (metric+'_')in key]})"
   ]
  },
  {
   "cell_type": "code",
   "execution_count": 15,
   "metadata": {},
   "outputs": [
    {
     "data": {
      "text/plain": [
       "[{'HomesSoldAsForeclosuresRatio': ['AllHomes']},\n",
       " {'InventorySeasonallyAdjusted': ['AllHomes']},\n",
       " {'InventoryRaw': ['AllHomes']},\n",
       " {'MedianListingPricePerSqft': ['1Bedroom',\n",
       "   '2Bedroom',\n",
       "   '3Bedroom',\n",
       "   '4Bedroom',\n",
       "   '5BedroomOrMore',\n",
       "   'AllHomes',\n",
       "   'CondoCoop',\n",
       "   'DuplexTriplex',\n",
       "   'SingleFamilyResidence']},\n",
       " {'MedianListingPrice': ['1Bedroom',\n",
       "   '2Bedroom',\n",
       "   '3Bedroom',\n",
       "   '4Bedroom',\n",
       "   '5BedroomOrMore',\n",
       "   'AllHomes',\n",
       "   'CondoCoop',\n",
       "   'DuplexTriplex',\n",
       "   'SingleFamilyResidence']},\n",
       " {'MedianPctOfPriceReduction': ['AllHomes',\n",
       "   'CondoCoop',\n",
       "   'SingleFamilyResidence']},\n",
       " {'MedianPriceCutDollar': ['AllHomes', 'CondoCoop', 'SingleFamilyResidence']},\n",
       " {'MedianRentalPricePerSqft': ['1Bedroom',\n",
       "   '2Bedroom',\n",
       "   '3Bedroom',\n",
       "   '4Bedroom',\n",
       "   '5BedroomOrMore',\n",
       "   'AllHomes',\n",
       "   'CondoCoop',\n",
       "   'DuplexTriplex',\n",
       "   'MultiFamilyResidence5PlusUnits',\n",
       "   'SingleFamilyResidence',\n",
       "   'Studio']},\n",
       " {'MedianRentalPrice': ['1Bedroom',\n",
       "   '2Bedroom',\n",
       "   '3Bedroom',\n",
       "   '4Bedroom',\n",
       "   '5BedroomOrMore',\n",
       "   'AllHomes',\n",
       "   'CondoCoop',\n",
       "   'DuplexTriplex',\n",
       "   'MultiFamilyResidence5PlusUnits',\n",
       "   'SingleFamilyResidence',\n",
       "   'Studio']},\n",
       " {'MedianSoldPricePerSqft': ['AllHomes',\n",
       "   'CondoCoop',\n",
       "   'SingleFamilyResidence']},\n",
       " {'MedianSoldPrice': ['AllHomes']},\n",
       " {'ZHVIPerSqft': ['AllHomes']},\n",
       " {'PctOfHomesDecreasingInValues': ['AllHomes']},\n",
       " {'PctOfHomesIncreasingInValues': ['AllHomes']},\n",
       " {'PctOfHomesSellingForGain': ['AllHomes']},\n",
       " {'PctOfHomesSellingForLoss': ['AllHomes']},\n",
       " {'PctOfListingsWithPriceReductionsSeasAdj': ['AllHomes',\n",
       "   'CondoCoop',\n",
       "   'SingleFamilyResidence']},\n",
       " {'PctOfListingsWithPriceReductions': ['AllHomes',\n",
       "   'CondoCoop',\n",
       "   'SingleFamilyResidence']},\n",
       " {'PctTransactionsThatArePreviouslyForeclosuredHomes': ['AllHomes']},\n",
       " {'PriceToRentRatio': ['AllHomes']},\n",
       " {'Turnover': ['AllHomes']},\n",
       " {'ZHVI': ['1bedroom',\n",
       "   '2bedroom',\n",
       "   '3bedroom',\n",
       "   '4bedroom',\n",
       "   '5BedroomOrMore',\n",
       "   'AllHomes',\n",
       "   'BottomTier',\n",
       "   'CondoCoop',\n",
       "   'MiddleTier',\n",
       "   'SingleFamilyResidence',\n",
       "   'TopTier']},\n",
       " {'ZRI': ['AllHomes', 'AllHomesPlusMultifamily']},\n",
       " {'ZriPerSqft': ['AllHomes']},\n",
       " {'Zri': ['MultiFamilyResidenceRental', 'SingleFamilyResidenceRental']},\n",
       " {'Unique': ['City']}]"
      ]
     },
     "execution_count": 15,
     "metadata": {},
     "output_type": "execute_result"
    }
   ],
   "source": [
    "tree"
   ]
  },
  {
   "cell_type": "code",
   "execution_count": null,
   "metadata": {},
   "outputs": [],
   "source": []
  }
 ],
 "metadata": {
  "kernelspec": {
   "display_name": "Python 3",
   "language": "python",
   "name": "python3"
  },
  "language_info": {
   "codemirror_mode": {
    "name": "ipython",
    "version": 3
   },
   "file_extension": ".py",
   "mimetype": "text/x-python",
   "name": "python",
   "nbconvert_exporter": "python",
   "pygments_lexer": "ipython3",
   "version": "3.6.3"
  }
 },
 "nbformat": 4,
 "nbformat_minor": 2
}
