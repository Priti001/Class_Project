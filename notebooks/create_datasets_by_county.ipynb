{
 "cells": [
  {
   "cell_type": "markdown",
   "metadata": {},
   "source": [
    "Objective: \n",
    "- Merge Zillow City_time_series.csv and city_crosswalk.csv and filter to only include CA.\n",
    "- Save high level summary spreadsheet for county lookup and detail spreadsheet for each county."
   ]
  },
  {
   "cell_type": "markdown",
   "metadata": {},
   "source": [
    "Required file structure:\n",
    "- this script\n",
    "- directory: 'datasets'\n",
    "    - directory: 'zecon'\n",
    "        - 'City_time_series.csv'\n",
    "        - 'cities_crosswalk.csv'"
   ]
  },
  {
   "cell_type": "markdown",
   "metadata": {},
   "source": [
    "Output(s)\n",
    "- 'CA_lookup.csv'\n",
    "- directory: 'data_by_county'\n",
    "    - county_1.csv\n",
    "    - ...\n",
    "    - county_n.csv"
   ]
  },
  {
   "cell_type": "code",
   "execution_count": 1,
   "metadata": {},
   "outputs": [],
   "source": [
    "# Dependencies\n",
    "import sys\n",
    "import os\n",
    "import pandas as pd\n",
    "import datetime"
   ]
  },
  {
   "cell_type": "code",
   "execution_count": 2,
   "metadata": {},
   "outputs": [],
   "source": [
    "# Initialize directory structure relative to notebook location\n",
    "nb_loc = os.getcwd()\n",
    "zecon_dataset_loc = os.path.join(nb_loc,'datasets','zecon')\n",
    "datasets = os.listdir(zecon_dataset_loc)\n",
    "\n",
    "# hard-coded filenames to use\n",
    "files_used = ['City_time_series.csv',\n",
    "             'cities_crosswalk.csv']\n",
    "\n",
    "# Import fileData\n",
    "crosswalk = pd.read_csv(os.path.join(zecon_dataset_loc,files_used[1]))\n",
    "city_time_series = pd.read_csv(os.path.join(zecon_dataset_loc,files_used[0]))\n",
    "\n",
    "# Merge datasets\n",
    "combine = city_time_series.merge(crosswalk,right_on = 'Unique_City_ID', left_on = 'RegionName')"
   ]
  },
  {
   "cell_type": "code",
   "execution_count": 3,
   "metadata": {},
   "outputs": [],
   "source": [
    "def extract_year(x, dateformat = \"%Y-%m-%d\"):\n",
    "    return datetime.datetime.strptime(x, dateformat).timetuple().tm_year"
   ]
  },
  {
   "cell_type": "code",
   "execution_count": 4,
   "metadata": {},
   "outputs": [],
   "source": [
    "# Filter to only: CA\n",
    "ca_data = combine.loc[combine['State']=='CA'].dropna(axis='columns',how='all')\n",
    "county_data_dir = 'data_by_county'\n",
    "\n",
    "# Create Index of files\n",
    "template = pd.DataFrame({\n",
    "    'County' : [],\n",
    "    'State' : 'CA',\n",
    "    'File Name' : [],\n",
    "    'Min Year': [],\n",
    "    'Max Year': [],\n",
    "    'Min Price Per Sq Ft': [],\n",
    "    'Max Price Per Sq Ft': []\n",
    "})\n",
    "col_order = ['State','County','File Name','Min Year','Max Year',\n",
    "             'Min Price Per Sq Ft','Max Price Per Sq Ft']\n",
    "\n",
    "county_profile = template\n",
    "\n",
    "# Save detail data by county\n",
    "try:\n",
    "    os.stat(county_data_dir)\n",
    "except:\n",
    "    os.mkdir(county_data_dir)\n",
    "\n",
    "counties = ca_data['County'].unique()\n",
    "\n",
    "for county in counties:\n",
    "    this_data = ca_data.loc[ca_data['County'] == county]\n",
    "    county_filename = county.replace(' ','')+'.csv'\n",
    "    this_data.to_csv(os.path.join(county_data_dir,county_filename))\n",
    "    this_index_entry = pd.DataFrame({\n",
    "            'County' : county,\n",
    "            'State' : 'CA',\n",
    "            'File Name' : county_filename,\n",
    "            'Min Year': this_data['Date'].apply(extract_year).min(),\n",
    "            'Max Year': this_data['Date'].apply(extract_year).max(),\n",
    "            'Min Price Per Sq Ft': this_data['MedianSoldPricePerSqft_AllHomes'].min(),\n",
    "            'Max Price Per Sq Ft': this_data['MedianSoldPricePerSqft_AllHomes'].max()\n",
    "        }, index=[0])\n",
    "    county_profile = pd.concat([county_profile,this_index_entry],axis=0,ignore_index=True)\n",
    "    \n",
    "county_profile[col_order].to_csv('CA_lookup.csv')\n",
    "    "
   ]
  },
  {
   "cell_type": "code",
   "execution_count": null,
   "metadata": {},
   "outputs": [],
   "source": []
  }
 ],
 "metadata": {
  "kernelspec": {
   "display_name": "Python 3",
   "language": "python",
   "name": "python3"
  },
  "language_info": {
   "codemirror_mode": {
    "name": "ipython",
    "version": 3
   },
   "file_extension": ".py",
   "mimetype": "text/x-python",
   "name": "python",
   "nbconvert_exporter": "python",
   "pygments_lexer": "ipython3",
   "version": "3.6.3"
  }
 },
 "nbformat": 4,
 "nbformat_minor": 2
}
