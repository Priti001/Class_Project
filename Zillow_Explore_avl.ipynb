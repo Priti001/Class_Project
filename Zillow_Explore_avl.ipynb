{
 "cells": [
  {
   "cell_type": "code",
   "execution_count": 1,
   "metadata": {},
   "outputs": [],
   "source": [
    "# Dependencies\n",
    "import sys\n",
    "import os\n",
    "import pandas as pd\n",
    "import numpy as np\n",
    "import matplotlib.pyplot as plt\n",
    "import time\n",
    "import datetime"
   ]
  },
  {
   "cell_type": "code",
   "execution_count": 2,
   "metadata": {},
   "outputs": [],
   "source": [
    "nb_loc = os.getcwd()\n",
    "zecon_dataset_loc = os.path.join(nb_loc,'datasets','zecon')\n",
    "datasets = os.listdir(zecon_dataset_loc)\n",
    "template = pd.DataFrame({'name': [],\n",
    "                        'contents' : []})\n",
    "zdata = template\n",
    "# for file in datasets:\n",
    "#     tokens = file.split('.')\n",
    "#     file_ext = tokens[-1]\n",
    "#     if file_ext == 'json':\n",
    "#         contents = pd.read_json(os.path.join(zecon_dataset_loc,file))\n",
    "#     elif file_ext == 'csv':\n",
    "#         contents = pd.read_csv(os.path.join(zecon_dataset_loc,file))\n",
    "#     name = file\n",
    "    # Need to create system to store each files data separately...\n",
    "    \n",
    "    "
   ]
  },
  {
   "cell_type": "code",
   "execution_count": 3,
   "metadata": {},
   "outputs": [],
   "source": [
    "crosswalk = pd.read_csv(os.path.join(zecon_dataset_loc,datasets[4]))"
   ]
  },
  {
   "cell_type": "code",
   "execution_count": 5,
   "metadata": {},
   "outputs": [],
   "source": [
    "city_time_series = pd.read_csv(os.path.join(zecon_dataset_loc,datasets[2]))"
   ]
  },
  {
   "cell_type": "code",
   "execution_count": 7,
   "metadata": {},
   "outputs": [],
   "source": [
    "combine = city_time_series.merge(crosswalk,right_on = 'Unique_City_ID', left_on = 'RegionName')"
   ]
  },
  {
   "cell_type": "code",
   "execution_count": 17,
   "metadata": {},
   "outputs": [
    {
     "data": {
      "text/plain": [
       "State  County              \n",
       "AK     Anchorage                229\n",
       "       Fairbanks North Star     458\n",
       "       Juneau                   240\n",
       "       Kenai Peninsula         1359\n",
       "       Ketchikan Gateway        139\n",
       "       Kodiak Island            139\n",
       "       Matanuska Susitna       1513\n",
       "       Nome                     122\n",
       "       Sitka                     63\n",
       "       Valdez Cordova             2\n",
       "AL     Autauga                  578\n",
       "       Baldwin                 4567\n",
       "       Barbour                  311\n",
       "       Bibb                     350\n",
       "       Blount                   958\n",
       "       Bullock                   43\n",
       "       Butler                   259\n",
       "       Calhoun                 1236\n",
       "       Chambers                 394\n",
       "       Cherokee                 352\n",
       "       Chilton                  718\n",
       "       Clarke                   120\n",
       "       Clay                     333\n",
       "       Cleburne                 530\n",
       "       Coffee                   502\n",
       "       Colbert                  498\n",
       "       Conecuh                  567\n",
       "       Coosa                    200\n",
       "       Covington                544\n",
       "       Crenshaw                 323\n",
       "                               ... \n",
       "WV     Tucker                   383\n",
       "       Tyler                     99\n",
       "       Upshur                   165\n",
       "       Wayne                   1238\n",
       "       Webster                   15\n",
       "       Wetzel                   433\n",
       "       Wirt                     208\n",
       "       Wood                    1839\n",
       "       Wyoming                  246\n",
       "WY     Albany                    84\n",
       "       Big Horn                 255\n",
       "       Campbell                  92\n",
       "       Carbon                   184\n",
       "       Converse                  87\n",
       "       Fremont                  274\n",
       "       Goshen                    80\n",
       "       Hot Springs               71\n",
       "       Johnson                   33\n",
       "       Laramie                  943\n",
       "       Lincoln                  149\n",
       "       Natrona                 1065\n",
       "       Park                     400\n",
       "       Platte                    71\n",
       "       Sheridan                  92\n",
       "       Sublette                  75\n",
       "       Sweetwater               163\n",
       "       Teton                    110\n",
       "       Uinta                     92\n",
       "       Washakie                  78\n",
       "       Weston                    71\n",
       "Name: RegionName, Length: 2783, dtype: int64"
      ]
     },
     "execution_count": 17,
     "metadata": {},
     "output_type": "execute_result"
    }
   ],
   "source": [
    "combine.groupby(['State','County'])['RegionName'].count()"
   ]
  },
  {
   "cell_type": "code",
   "execution_count": 9,
   "metadata": {},
   "outputs": [
    {
     "name": "stdout",
     "output_type": "stream",
     "text": [
      "4172721\n",
      "25341\n"
     ]
    }
   ],
   "source": [
    "print(len(city_time_series['RegionName']))\n",
    "print(len(crosswalk[['City']]))"
   ]
  },
  {
   "cell_type": "code",
   "execution_count": 10,
   "metadata": {
    "scrolled": true
   },
   "outputs": [],
   "source": [
    "sample = city_time_series[['Date','RegionName',\n",
    "                      'PriceToRentRatio_AllHomes','MedianSoldPrice_AllHomes',\n",
    "                     'MedianSoldPricePerSqft_AllHomes']].dropna(how='any')"
   ]
  },
  {
   "cell_type": "code",
   "execution_count": 11,
   "metadata": {},
   "outputs": [],
   "source": [
    "def str2unix(s):\n",
    "    return time.mktime(datetime.datetime.strptime(s, \"%Y-%m-%d\").timetuple())\n",
    "def convert_timescale(x):\n",
    "    return x/(60*60*24*365)"
   ]
  },
  {
   "cell_type": "code",
   "execution_count": 12,
   "metadata": {},
   "outputs": [
    {
     "name": "stdout",
     "output_type": "stream",
     "text": [
      "2346102    2010-10-31\n",
      "2346109    2010-10-31\n",
      "2346111    2010-10-31\n",
      "2346113    2010-10-31\n",
      "2346122    2010-10-31\n",
      "Name: Date, dtype: object\n",
      "3868199    2016-06-30\n",
      "3868204    2016-06-30\n",
      "3868209    2016-06-30\n",
      "3868220    2016-06-30\n",
      "3868222    2016-06-30\n",
      "Name: Date, dtype: object\n"
     ]
    }
   ],
   "source": [
    "print(sample['Date'].head())\n",
    "print(sample['Date'].tail())"
   ]
  },
  {
   "cell_type": "code",
   "execution_count": 13,
   "metadata": {},
   "outputs": [
    {
     "name": "stdout",
     "output_type": "stream",
     "text": [
      "2346102    40.858333\n",
      "2346109    40.858333\n",
      "2346111    40.858333\n",
      "2346113    40.858333\n",
      "2346122    40.858333\n",
      "Name: Date, dtype: float64\n",
      "3868199    46.526826\n",
      "3868204    46.526826\n",
      "3868209    46.526826\n",
      "3868220    46.526826\n",
      "3868222    46.526826\n",
      "Name: Date, dtype: float64\n"
     ]
    }
   ],
   "source": [
    "print(sample['Date'].head().apply(str2unix).apply(convert_timescale))\n",
    "print(sample['Date'].tail().apply(str2unix).apply(convert_timescale))"
   ]
  },
  {
   "cell_type": "code",
   "execution_count": 14,
   "metadata": {},
   "outputs": [
    {
     "data": {
      "image/png": "[encoded data removed]",
      "text/plain": [
       "<matplotlib.figure.Figure at 0x11f7a6208>"
      ]
     },
     "metadata": {},
     "output_type": "display_data"
    }
   ],
   "source": [
    "plt.figure(figsize=[20,6])\n",
    "plt.plot(sample['Date'].apply(str2unix).apply(convert_timescale),sample['MedianSoldPricePerSqft_AllHomes'],'.')\n",
    "plt.show()"
   ]
  },
  {
   "cell_type": "code",
   "execution_count": 15,
   "metadata": {
    "scrolled": true
   },
   "outputs": [],
   "source": [
    "# regions = sample['RegionName'].unique()\n",
    "# for region in regions:\n",
    "#     dates = sample.loc[sample['RegionName']==region,'Date'].apply(str2unix).apply(convert_timescale)\n",
    "#     price = sample.loc[sample['RegionName']==region,'MedianSoldPricePerSqft_AllHomes']\n",
    "#     plt.plot(dates,price)\n",
    "# # plt.ylim([0,500])\n",
    "# plt.show()"
   ]
  },
  {
   "cell_type": "code",
   "execution_count": 16,
   "metadata": {},
   "outputs": [
    {
     "data": {
      "text/plain": [
       "Index(['Date', 'RegionName', 'HomesSoldAsForeclosuresRatio_AllHomes',\n",
       "       'InventorySeasonallyAdjusted_AllHomes', 'InventoryRaw_AllHomes',\n",
       "       'MedianListingPricePerSqft_1Bedroom',\n",
       "       'MedianListingPricePerSqft_2Bedroom',\n",
       "       'MedianListingPricePerSqft_3Bedroom',\n",
       "       'MedianListingPricePerSqft_4Bedroom',\n",
       "       'MedianListingPricePerSqft_5BedroomOrMore',\n",
       "       'MedianListingPricePerSqft_AllHomes',\n",
       "       'MedianListingPricePerSqft_CondoCoop',\n",
       "       'MedianListingPricePerSqft_DuplexTriplex',\n",
       "       'MedianListingPricePerSqft_SingleFamilyResidence',\n",
       "       'MedianListingPrice_1Bedroom', 'MedianListingPrice_2Bedroom',\n",
       "       'MedianListingPrice_3Bedroom', 'MedianListingPrice_4Bedroom',\n",
       "       'MedianListingPrice_5BedroomOrMore', 'MedianListingPrice_AllHomes',\n",
       "       'MedianListingPrice_CondoCoop', 'MedianListingPrice_DuplexTriplex',\n",
       "       'MedianListingPrice_SingleFamilyResidence',\n",
       "       'MedianPctOfPriceReduction_AllHomes',\n",
       "       'MedianPctOfPriceReduction_CondoCoop',\n",
       "       'MedianPctOfPriceReduction_SingleFamilyResidence',\n",
       "       'MedianPriceCutDollar_AllHomes', 'MedianPriceCutDollar_CondoCoop',\n",
       "       'MedianPriceCutDollar_SingleFamilyResidence',\n",
       "       'MedianRentalPricePerSqft_1Bedroom',\n",
       "       'MedianRentalPricePerSqft_2Bedroom',\n",
       "       'MedianRentalPricePerSqft_3Bedroom',\n",
       "       'MedianRentalPricePerSqft_4Bedroom',\n",
       "       'MedianRentalPricePerSqft_5BedroomOrMore',\n",
       "       'MedianRentalPricePerSqft_AllHomes',\n",
       "       'MedianRentalPricePerSqft_CondoCoop',\n",
       "       'MedianRentalPricePerSqft_DuplexTriplex',\n",
       "       'MedianRentalPricePerSqft_MultiFamilyResidence5PlusUnits',\n",
       "       'MedianRentalPricePerSqft_SingleFamilyResidence',\n",
       "       'MedianRentalPricePerSqft_Studio', 'MedianRentalPrice_1Bedroom',\n",
       "       'MedianRentalPrice_2Bedroom', 'MedianRentalPrice_3Bedroom',\n",
       "       'MedianRentalPrice_4Bedroom', 'MedianRentalPrice_5BedroomOrMore',\n",
       "       'MedianRentalPrice_AllHomes', 'MedianRentalPrice_CondoCoop',\n",
       "       'MedianRentalPrice_DuplexTriplex',\n",
       "       'MedianRentalPrice_MultiFamilyResidence5PlusUnits',\n",
       "       'MedianRentalPrice_SingleFamilyResidence', 'MedianRentalPrice_Studio',\n",
       "       'MedianSoldPricePerSqft_AllHomes', 'MedianSoldPricePerSqft_CondoCoop',\n",
       "       'MedianSoldPricePerSqft_SingleFamilyResidence',\n",
       "       'MedianSoldPrice_AllHomes', 'ZHVIPerSqft_AllHomes',\n",
       "       'PctOfHomesDecreasingInValues_AllHomes',\n",
       "       'PctOfHomesIncreasingInValues_AllHomes',\n",
       "       'PctOfHomesSellingForGain_AllHomes',\n",
       "       'PctOfHomesSellingForLoss_AllHomes',\n",
       "       'PctOfListingsWithPriceReductionsSeasAdj_AllHomes',\n",
       "       'PctOfListingsWithPriceReductionsSeasAdj_CondoCoop',\n",
       "       'PctOfListingsWithPriceReductionsSeasAdj_SingleFamilyResidence',\n",
       "       'PctOfListingsWithPriceReductions_AllHomes',\n",
       "       'PctOfListingsWithPriceReductions_CondoCoop',\n",
       "       'PctOfListingsWithPriceReductions_SingleFamilyResidence',\n",
       "       'PctTransactionsThatArePreviouslyForeclosuredHomes_AllHomes',\n",
       "       'PriceToRentRatio_AllHomes', 'Turnover_AllHomes', 'ZHVI_1bedroom',\n",
       "       'ZHVI_2bedroom', 'ZHVI_3bedroom', 'ZHVI_4bedroom',\n",
       "       'ZHVI_5BedroomOrMore', 'ZHVI_AllHomes', 'ZHVI_BottomTier',\n",
       "       'ZHVI_CondoCoop', 'ZHVI_MiddleTier', 'ZHVI_SingleFamilyResidence',\n",
       "       'ZHVI_TopTier', 'ZRI_AllHomes', 'ZRI_AllHomesPlusMultifamily',\n",
       "       'ZriPerSqft_AllHomes', 'Zri_MultiFamilyResidenceRental',\n",
       "       'Zri_SingleFamilyResidenceRental'],\n",
       "      dtype='object')"
      ]
     },
     "execution_count": 16,
     "metadata": {},
     "output_type": "execute_result"
    }
   ],
   "source": [
    "city_time_series.keys()"
   ]
  },
  {
   "cell_type": "code",
   "execution_count": null,
   "metadata": {},
   "outputs": [],
   "source": []
  }
 ],
 "metadata": {
  "kernelspec": {
   "display_name": "Python 3",
   "language": "python",
   "name": "python3"
  },
  "language_info": {
   "codemirror_mode": {
    "name": "ipython",
    "version": 3
   },
   "file_extension": ".py",
   "mimetype": "text/x-python",
   "name": "python",
   "nbconvert_exporter": "python",
   "pygments_lexer": "ipython3",
   "version": "3.6.3"
  }
 },
 "nbformat": 4,
 "nbformat_minor": 2
}
