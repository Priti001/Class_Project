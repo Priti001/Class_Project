{
 "cells": [
  {
   "cell_type": "code",
   "execution_count": 1,
   "metadata": {
    "collapsed": true
   },
   "outputs": [],
   "source": [
    "import pandas as pd\n",
    "import numpy as np\n",
    "from matplotlib import pyplot as plt\n",
    "import seaborn as sns\n",
    "%matplotlib inline"
   ]
  },
  {
   "cell_type": "code",
   "execution_count": null,
   "metadata": {
    "collapsed": true
   },
   "outputs": [],
   "source": [
    "#windows\n",
    "citycrime= pd.read_csv('C:\\\\Pri doc\\\\priti\\\\Projects\\\\Myproject\\\\Berkely\\\\My class projects data\\\\california-crime-and-law-enforcement\\\\ca_offenses_by_city.csv')\n"
   ]
  },
  {
   "cell_type": "code",
   "execution_count": null,
   "metadata": {},
   "outputs": [],
   "source": [
    "citycrime.dropna(axis=1, how='all')"
   ]
  },
  {
   "cell_type": "code",
   "execution_count": null,
   "metadata": {},
   "outputs": [],
   "source": [
    "citycrime.head()"
   ]
  },
  {
   "cell_type": "code",
   "execution_count": null,
   "metadata": {
    "collapsed": true
   },
   "outputs": [],
   "source": [
    "citycrime['Crime_rate']= round((citycrime['TotalCrime']/citycrime['Population'])*100000,0)\n",
    "#citycrime['Crime_rate']= (citycrime['TotalCrime']/citycrime['Population'])"
   ]
  },
  {
   "cell_type": "code",
   "execution_count": null,
   "metadata": {},
   "outputs": [],
   "source": [
    "citycrime.head()"
   ]
  },
  {
   "cell_type": "code",
   "execution_count": null,
   "metadata": {
    "collapsed": true
   },
   "outputs": [],
   "source": [
    "import chardet\n",
    "with open('C:\\\\Pri doc\\\\priti\\\\Projects\\\\Myproject\\\\Berkely\\\\My class projects data\\\\california-crime-and-law-enforcement\\\\PritiCitiPopulation.csv', 'rb') as f:\n",
    "    result = chardet.detect(f.read())  # or readline if the file is large\n",
    "\n",
    "citypopulation=pd.read_csv('C:\\\\Pri doc\\\\priti\\\\Projects\\\\Myproject\\\\Berkely\\\\My class projects data\\\\california-crime-and-law-enforcement\\\\PritiCitiPopulation.csv', encoding=result['encoding'])"
   ]
  },
  {
   "cell_type": "code",
   "execution_count": null,
   "metadata": {},
   "outputs": [],
   "source": [
    "citypopulation.head()"
   ]
  },
  {
   "cell_type": "code",
   "execution_count": null,
   "metadata": {},
   "outputs": [],
   "source": [
    "citypopulation.dropna(axis=0, how='all')"
   ]
  },
  {
   "cell_type": "code",
   "execution_count": null,
   "metadata": {
    "collapsed": true
   },
   "outputs": [],
   "source": [
    "citypopulation['Population']=citypopulation['Population'].fillna(0).astype(int)"
   ]
  },
  {
   "cell_type": "code",
   "execution_count": null,
   "metadata": {},
   "outputs": [],
   "source": [
    "citypopulation.head()"
   ]
  },
  {
   "cell_type": "code",
   "execution_count": null,
   "metadata": {
    "collapsed": true
   },
   "outputs": [],
   "source": [
    "countypopulation = citypopulation.groupby(['County']).agg({'Population':['sum']})\n",
    "countypopulation .columns = countypopulation .columns.droplevel(1)\n",
    "countypopulation .columns"
   ]
  },
  {
   "cell_type": "code",
   "execution_count": null,
   "metadata": {
    "collapsed": true
   },
   "outputs": [],
   "source": [
    "countypopulation=countypopulation.reset_index()"
   ]
  },
  {
   "cell_type": "code",
   "execution_count": null,
   "metadata": {
    "collapsed": true
   },
   "outputs": [],
   "source": [
    "countypopulation.head()"
   ]
  },
  {
   "cell_type": "code",
   "execution_count": null,
   "metadata": {
    "collapsed": true
   },
   "outputs": [],
   "source": [
    "#merge city and county population data\n",
    "city_crime_merged_data = pd.merge(citycrime,citypopulation,on='City')"
   ]
  },
  {
   "cell_type": "code",
   "execution_count": null,
   "metadata": {
    "collapsed": true
   },
   "outputs": [],
   "source": [
    "city_crime_merged_data.head()"
   ]
  },
  {
   "cell_type": "code",
   "execution_count": null,
   "metadata": {
    "collapsed": true
   },
   "outputs": [],
   "source": [
    "#del city_crime_merged_data['Population_y']\n",
    "\n",
    "city_crime_merged_data = city_crime_merged_data.drop('Population_y', axis=1)"
   ]
  },
  {
   "cell_type": "code",
   "execution_count": null,
   "metadata": {
    "collapsed": true
   },
   "outputs": [],
   "source": [
    "city_crime_merged_data.head()"
   ]
  },
  {
   "cell_type": "code",
   "execution_count": null,
   "metadata": {
    "collapsed": true
   },
   "outputs": [],
   "source": [
    "city_crime_merged_data.rename(columns={'Population_x': 'Population'}, inplace=True)"
   ]
  },
  {
   "cell_type": "code",
   "execution_count": null,
   "metadata": {
    "collapsed": true
   },
   "outputs": [],
   "source": [
    "city_crime_merged_data.head()"
   ]
  },
  {
   "cell_type": "code",
   "execution_count": null,
   "metadata": {
    "collapsed": true
   },
   "outputs": [],
   "source": []
  },
  {
   "cell_type": "code",
   "execution_count": null,
   "metadata": {
    "collapsed": true
   },
   "outputs": [],
   "source": [
    "d.head()"
   ]
  },
  {
   "cell_type": "code",
   "execution_count": null,
   "metadata": {
    "collapsed": true
   },
   "outputs": [],
   "source": [
    "c=city_crime_merged_data[city_crime_merged_data.County == 'Alameda']\n",
    "#city_crime_merged_data.loc[city_crime_merged_data['State']=='CA'].groupby(['County'])['RegionName'].count()"
   ]
  },
  {
   "cell_type": "code",
   "execution_count": null,
   "metadata": {
    "collapsed": true
   },
   "outputs": [],
   "source": [
    "c.head()"
   ]
  },
  {
   "cell_type": "code",
   "execution_count": null,
   "metadata": {
    "collapsed": true
   },
   "outputs": [],
   "source": [
    "countycrime= pd.read_csv('C:\\\\Pri doc\\\\priti\\\\Projects\\\\Myproject\\\\Berkely\\\\My class projects data\\\\california-crime-and-law-enforcement\\\\ca_offenses_by_county.csv')\n"
   ]
  },
  {
   "cell_type": "code",
   "execution_count": null,
   "metadata": {
    "collapsed": true
   },
   "outputs": [],
   "source": [
    "countycrime.head()"
   ]
  },
  {
   "cell_type": "code",
   "execution_count": null,
   "metadata": {
    "collapsed": true
   },
   "outputs": [],
   "source": [
    "county_crime_merged_data = pd.merge(countycrime,countypopulation,on='County')"
   ]
  },
  {
   "cell_type": "code",
   "execution_count": null,
   "metadata": {
    "collapsed": true
   },
   "outputs": [],
   "source": [
    "county_crime_merged_data.dtypes"
   ]
  },
  {
   "cell_type": "code",
   "execution_count": null,
   "metadata": {
    "collapsed": true
   },
   "outputs": [],
   "source": [
    "county_crime_merged_data.rename(columns={\"Total Crime \" : \"TotalCrime\"},inplace = True)"
   ]
  },
  {
   "cell_type": "code",
   "execution_count": null,
   "metadata": {
    "collapsed": true
   },
   "outputs": [],
   "source": [
    "county_crime_merged_data['TotalCrime'] = county_crime_merged_data['TotalCrime'].astype(np.int32)"
   ]
  },
  {
   "cell_type": "code",
   "execution_count": null,
   "metadata": {
    "collapsed": true
   },
   "outputs": [],
   "source": [
    "county_crime_merged_data.dtypes"
   ]
  },
  {
   "cell_type": "code",
   "execution_count": null,
   "metadata": {
    "collapsed": true
   },
   "outputs": [],
   "source": []
  },
  {
   "cell_type": "code",
   "execution_count": null,
   "metadata": {
    "collapsed": true
   },
   "outputs": [],
   "source": [
    "county_crime_merged_data.columns"
   ]
  },
  {
   "cell_type": "code",
   "execution_count": null,
   "metadata": {
    "collapsed": true
   },
   "outputs": [],
   "source": []
  },
  {
   "cell_type": "code",
   "execution_count": null,
   "metadata": {
    "collapsed": true
   },
   "outputs": [],
   "source": []
  },
  {
   "cell_type": "code",
   "execution_count": null,
   "metadata": {
    "collapsed": true
   },
   "outputs": [],
   "source": [
    "county_crime_merged_data['Crime_rate']= round((county_crime_merged_data['TotalCrime']/county_crime_merged_data['Population'])*100000,2)"
   ]
  },
  {
   "cell_type": "code",
   "execution_count": null,
   "metadata": {
    "collapsed": true
   },
   "outputs": [],
   "source": [
    "county_crime_merged_data['Crime_rate']= (county_crime_merged_data['TotalCrime']/county_crime_merged_data['Population'])*100000"
   ]
  },
  {
   "cell_type": "code",
   "execution_count": null,
   "metadata": {
    "collapsed": true
   },
   "outputs": [],
   "source": [
    "county_crime_merged_data.head()"
   ]
  },
  {
   "cell_type": "code",
   "execution_count": null,
   "metadata": {
    "collapsed": true
   },
   "outputs": [],
   "source": [
    "county_crime_merged_data.Crime_rate = round(county_crime_merged_data.Crime_rate,2)"
   ]
  },
  {
   "cell_type": "code",
   "execution_count": null,
   "metadata": {
    "collapsed": true
   },
   "outputs": [],
   "source": [
    "county_crime_merged_data.head()"
   ]
  },
  {
   "cell_type": "code",
   "execution_count": null,
   "metadata": {
    "collapsed": true
   },
   "outputs": [],
   "source": [
    "#county_crime_merged_data.loc[(county_crime_merged_data!=0).any(axis=1)]\n",
    "county_crime_merged_data = county_crime_merged_data[county_crime_merged_data.Population!= 0]"
   ]
  },
  {
   "cell_type": "code",
   "execution_count": null,
   "metadata": {
    "collapsed": true
   },
   "outputs": [],
   "source": [
    "county_crime_merged_data"
   ]
  },
  {
   "cell_type": "code",
   "execution_count": null,
   "metadata": {
    "collapsed": true
   },
   "outputs": [],
   "source": [
    "county_crime_merged_data['Crime_rate']"
   ]
  },
  {
   "cell_type": "code",
   "execution_count": null,
   "metadata": {
    "collapsed": true
   },
   "outputs": [],
   "source": [
    "ax = county_crime_merged_data[['County', 'Crime_rate']].plot(x='County', linestyle='-', marker='o')\n",
    "plt.show()"
   ]
  },
  {
   "cell_type": "code",
   "execution_count": null,
   "metadata": {
    "collapsed": true
   },
   "outputs": [],
   "source": []
  },
  {
   "cell_type": "code",
   "execution_count": null,
   "metadata": {
    "collapsed": true
   },
   "outputs": [],
   "source": []
  },
  {
   "cell_type": "code",
   "execution_count": 2,
   "metadata": {
    "collapsed": true
   },
   "outputs": [],
   "source": [
    "school= pd.read_csv('C:\\\\Pri doc\\\\priti\\\\Projects\\\\Myproject\\\\Berkely\\\\Week 3 Python\\\\school_data.csv')"
   ]
  },
  {
   "cell_type": "code",
   "execution_count": 3,
   "metadata": {},
   "outputs": [
    {
     "data": {
      "text/html": [
       "<div>\n",
       "<style>\n",
       "    .dataframe thead tr:only-child th {\n",
       "        text-align: right;\n",
       "    }\n",
       "\n",
       "    .dataframe thead th {\n",
       "        text-align: left;\n",
       "    }\n",
       "\n",
       "    .dataframe tbody tr th {\n",
       "        vertical-align: top;\n",
       "    }\n",
       "</style>\n",
       "<table border=\"1\" class=\"dataframe\">\n",
       "  <thead>\n",
       "    <tr style=\"text-align: right;\">\n",
       "      <th></th>\n",
       "      <th>School Name</th>\n",
       "      <th>County Name</th>\n",
       "      <th>District Name</th>\n",
       "      <th>Zip Code</th>\n",
       "      <th>Grade</th>\n",
       "      <th>Test Name</th>\n",
       "      <th>2015-2017 Avg Percentage Standard Met and Above</th>\n",
       "      <th>School Type</th>\n",
       "    </tr>\n",
       "  </thead>\n",
       "  <tbody>\n",
       "    <tr>\n",
       "      <th>0</th>\n",
       "      <td>21St Century Learning Institute</td>\n",
       "      <td>Riverside</td>\n",
       "      <td>Beaumont Unified</td>\n",
       "      <td>90804</td>\n",
       "      <td>8</td>\n",
       "      <td>English Language Arts/Literacy</td>\n",
       "      <td>45.00</td>\n",
       "      <td>Middle School</td>\n",
       "    </tr>\n",
       "    <tr>\n",
       "      <th>1</th>\n",
       "      <td>21St Century Learning Institute</td>\n",
       "      <td>Riverside</td>\n",
       "      <td>Beaumont Unified</td>\n",
       "      <td>90804</td>\n",
       "      <td>8</td>\n",
       "      <td>Mathematics</td>\n",
       "      <td>18.00</td>\n",
       "      <td>Middle School</td>\n",
       "    </tr>\n",
       "    <tr>\n",
       "      <th>2</th>\n",
       "      <td>21St Century Learning Institute</td>\n",
       "      <td>Riverside</td>\n",
       "      <td>Beaumont Unified</td>\n",
       "      <td>90804</td>\n",
       "      <td>11</td>\n",
       "      <td>English Language Arts/Literacy</td>\n",
       "      <td>34.29</td>\n",
       "      <td>High School</td>\n",
       "    </tr>\n",
       "    <tr>\n",
       "      <th>3</th>\n",
       "      <td>21St Century Learning Institute</td>\n",
       "      <td>Riverside</td>\n",
       "      <td>Beaumont Unified</td>\n",
       "      <td>90804</td>\n",
       "      <td>11</td>\n",
       "      <td>Mathematics</td>\n",
       "      <td>4.38</td>\n",
       "      <td>High School</td>\n",
       "    </tr>\n",
       "    <tr>\n",
       "      <th>4</th>\n",
       "      <td>21St Century Learning Institute</td>\n",
       "      <td>Riverside</td>\n",
       "      <td>Beaumont Unified</td>\n",
       "      <td>90804</td>\n",
       "      <td>13</td>\n",
       "      <td>English Language Arts/Literacy</td>\n",
       "      <td>33.44</td>\n",
       "      <td>High School</td>\n",
       "    </tr>\n",
       "  </tbody>\n",
       "</table>\n",
       "</div>"
      ],
      "text/plain": [
       "                       School Name County Name     District Name  Zip Code  \\\n",
       "0  21St Century Learning Institute   Riverside  Beaumont Unified     90804   \n",
       "1  21St Century Learning Institute   Riverside  Beaumont Unified     90804   \n",
       "2  21St Century Learning Institute   Riverside  Beaumont Unified     90804   \n",
       "3  21St Century Learning Institute   Riverside  Beaumont Unified     90804   \n",
       "4  21St Century Learning Institute   Riverside  Beaumont Unified     90804   \n",
       "\n",
       "   Grade                       Test Name  \\\n",
       "0      8  English Language Arts/Literacy   \n",
       "1      8                     Mathematics   \n",
       "2     11  English Language Arts/Literacy   \n",
       "3     11                     Mathematics   \n",
       "4     13  English Language Arts/Literacy   \n",
       "\n",
       "   2015-2017 Avg Percentage Standard Met and Above    School Type  \n",
       "0                                            45.00  Middle School  \n",
       "1                                            18.00  Middle School  \n",
       "2                                            34.29    High School  \n",
       "3                                             4.38    High School  \n",
       "4                                            33.44    High School  "
      ]
     },
     "execution_count": 3,
     "metadata": {},
     "output_type": "execute_result"
    }
   ],
   "source": [
    "school.head()"
   ]
  },
  {
   "cell_type": "code",
   "execution_count": 4,
   "metadata": {
    "collapsed": true
   },
   "outputs": [],
   "source": [
    "school.rename(columns={'School Name': 'School_Name',\"County Name\": \"County\"}, inplace=True)"
   ]
  },
  {
   "cell_type": "code",
   "execution_count": 5,
   "metadata": {
    "collapsed": true
   },
   "outputs": [],
   "source": [
    "school_agg = school.groupby(['County','District Name','School Type']).agg({'2015-2017 Avg Percentage Standard Met and Above':['mean']})\n"
   ]
  },
  {
   "cell_type": "code",
   "execution_count": 6,
   "metadata": {
    "collapsed": true
   },
   "outputs": [],
   "source": [
    "school_county = school.groupby(['County','School Type']).agg({'2015-2017 Avg Percentage Standard Met and Above':['mean']})\n"
   ]
  },
  {
   "cell_type": "code",
   "execution_count": 7,
   "metadata": {
    "collapsed": true
   },
   "outputs": [],
   "source": [
    "school_county .columns = school_county .columns.droplevel(1)\n",
    "school_county .columns\n",
    "\n",
    "school_county=school_county.reset_index()"
   ]
  },
  {
   "cell_type": "code",
   "execution_count": 8,
   "metadata": {},
   "outputs": [
    {
     "data": {
      "text/plain": [
       "Index(['County', 'School Type',\n",
       "       '2015-2017 Avg Percentage Standard Met and Above'],\n",
       "      dtype='object')"
      ]
     },
     "execution_count": 8,
     "metadata": {},
     "output_type": "execute_result"
    }
   ],
   "source": [
    "school_county .columns"
   ]
  },
  {
   "cell_type": "code",
   "execution_count": 9,
   "metadata": {
    "collapsed": true
   },
   "outputs": [],
   "source": [
    "school_county.rename(columns={'2015-2017 Avg Percentage Standard Met and Above': 'Avg_Percentage_Standard_Met'}, inplace=True)"
   ]
  },
  {
   "cell_type": "code",
   "execution_count": 10,
   "metadata": {
    "collapsed": true
   },
   "outputs": [],
   "source": [
    "school_county['Avg_Percentage_Standard_Met']= round(school_county['Avg_Percentage_Standard_Met'],0)"
   ]
  },
  {
   "cell_type": "code",
   "execution_count": 11,
   "metadata": {},
   "outputs": [
    {
     "data": {
      "text/html": [
       "<div>\n",
       "<style>\n",
       "    .dataframe thead tr:only-child th {\n",
       "        text-align: right;\n",
       "    }\n",
       "\n",
       "    .dataframe thead th {\n",
       "        text-align: left;\n",
       "    }\n",
       "\n",
       "    .dataframe tbody tr th {\n",
       "        vertical-align: top;\n",
       "    }\n",
       "</style>\n",
       "<table border=\"1\" class=\"dataframe\">\n",
       "  <thead>\n",
       "    <tr style=\"text-align: right;\">\n",
       "      <th></th>\n",
       "      <th>County</th>\n",
       "      <th>School Type</th>\n",
       "      <th>Avg_Percentage_Standard_Met</th>\n",
       "    </tr>\n",
       "  </thead>\n",
       "  <tbody>\n",
       "    <tr>\n",
       "      <th>0</th>\n",
       "      <td>Alameda</td>\n",
       "      <td>Elementary School</td>\n",
       "      <td>43.0</td>\n",
       "    </tr>\n",
       "    <tr>\n",
       "      <th>1</th>\n",
       "      <td>Alameda</td>\n",
       "      <td>High School</td>\n",
       "      <td>41.0</td>\n",
       "    </tr>\n",
       "    <tr>\n",
       "      <th>2</th>\n",
       "      <td>Alameda</td>\n",
       "      <td>Middle School</td>\n",
       "      <td>41.0</td>\n",
       "    </tr>\n",
       "    <tr>\n",
       "      <th>3</th>\n",
       "      <td>Alpine</td>\n",
       "      <td>Elementary School</td>\n",
       "      <td>35.0</td>\n",
       "    </tr>\n",
       "    <tr>\n",
       "      <th>4</th>\n",
       "      <td>Alpine</td>\n",
       "      <td>High School</td>\n",
       "      <td>52.0</td>\n",
       "    </tr>\n",
       "  </tbody>\n",
       "</table>\n",
       "</div>"
      ],
      "text/plain": [
       "    County        School Type  Avg_Percentage_Standard_Met\n",
       "0  Alameda  Elementary School                         43.0\n",
       "1  Alameda        High School                         41.0\n",
       "2  Alameda      Middle School                         41.0\n",
       "3   Alpine  Elementary School                         35.0\n",
       "4   Alpine        High School                         52.0"
      ]
     },
     "execution_count": 11,
     "metadata": {},
     "output_type": "execute_result"
    }
   ],
   "source": [
    "school_county.head()"
   ]
  },
  {
   "cell_type": "code",
   "execution_count": 12,
   "metadata": {
    "collapsed": true
   },
   "outputs": [],
   "source": [
    "d = {\"Elementary School\":1, \"Middle School\":2,\"High School\":3}\n",
    "school_county['type_id'] = school_county['School Type'].map(d)\n"
   ]
  },
  {
   "cell_type": "code",
   "execution_count": 13,
   "metadata": {},
   "outputs": [
    {
     "data": {
      "text/plain": [
       "County                          object\n",
       "School Type                     object\n",
       "Avg_Percentage_Standard_Met    float64\n",
       "type_id                        float64\n",
       "dtype: object"
      ]
     },
     "execution_count": 13,
     "metadata": {},
     "output_type": "execute_result"
    }
   ],
   "source": [
    "school_county.dtypes"
   ]
  },
  {
   "cell_type": "code",
   "execution_count": 14,
   "metadata": {
    "collapsed": true
   },
   "outputs": [],
   "source": [
    "school_county['type_id']=school_county['type_id'].fillna(0).astype(int)"
   ]
  },
  {
   "cell_type": "code",
   "execution_count": 15,
   "metadata": {},
   "outputs": [
    {
     "data": {
      "text/plain": [
       "County                          object\n",
       "School Type                     object\n",
       "Avg_Percentage_Standard_Met    float64\n",
       "type_id                          int32\n",
       "dtype: object"
      ]
     },
     "execution_count": 15,
     "metadata": {},
     "output_type": "execute_result"
    }
   ],
   "source": [
    "school_county.dtypes"
   ]
  },
  {
   "cell_type": "code",
   "execution_count": 16,
   "metadata": {
    "collapsed": true
   },
   "outputs": [],
   "source": [
    "school_county['County']=school_county['County'].fillna(0).astype(str)"
   ]
  },
  {
   "cell_type": "code",
   "execution_count": 17,
   "metadata": {},
   "outputs": [
    {
     "data": {
      "text/html": [
       "<div>\n",
       "<style>\n",
       "    .dataframe thead tr:only-child th {\n",
       "        text-align: right;\n",
       "    }\n",
       "\n",
       "    .dataframe thead th {\n",
       "        text-align: left;\n",
       "    }\n",
       "\n",
       "    .dataframe tbody tr th {\n",
       "        vertical-align: top;\n",
       "    }\n",
       "</style>\n",
       "<table border=\"1\" class=\"dataframe\">\n",
       "  <thead>\n",
       "    <tr style=\"text-align: right;\">\n",
       "      <th></th>\n",
       "      <th>County</th>\n",
       "      <th>School Type</th>\n",
       "      <th>Avg_Percentage_Standard_Met</th>\n",
       "      <th>type_id</th>\n",
       "    </tr>\n",
       "  </thead>\n",
       "  <tbody>\n",
       "    <tr>\n",
       "      <th>0</th>\n",
       "      <td>Alameda</td>\n",
       "      <td>Elementary School</td>\n",
       "      <td>43.0</td>\n",
       "      <td>1</td>\n",
       "    </tr>\n",
       "    <tr>\n",
       "      <th>1</th>\n",
       "      <td>Alameda</td>\n",
       "      <td>High School</td>\n",
       "      <td>41.0</td>\n",
       "      <td>3</td>\n",
       "    </tr>\n",
       "    <tr>\n",
       "      <th>2</th>\n",
       "      <td>Alameda</td>\n",
       "      <td>Middle School</td>\n",
       "      <td>41.0</td>\n",
       "      <td>2</td>\n",
       "    </tr>\n",
       "    <tr>\n",
       "      <th>3</th>\n",
       "      <td>Alpine</td>\n",
       "      <td>Elementary School</td>\n",
       "      <td>35.0</td>\n",
       "      <td>1</td>\n",
       "    </tr>\n",
       "    <tr>\n",
       "      <th>4</th>\n",
       "      <td>Alpine</td>\n",
       "      <td>High School</td>\n",
       "      <td>52.0</td>\n",
       "      <td>3</td>\n",
       "    </tr>\n",
       "  </tbody>\n",
       "</table>\n",
       "</div>"
      ],
      "text/plain": [
       "    County        School Type  Avg_Percentage_Standard_Met  type_id\n",
       "0  Alameda  Elementary School                         43.0        1\n",
       "1  Alameda        High School                         41.0        3\n",
       "2  Alameda      Middle School                         41.0        2\n",
       "3   Alpine  Elementary School                         35.0        1\n",
       "4   Alpine        High School                         52.0        3"
      ]
     },
     "execution_count": 17,
     "metadata": {},
     "output_type": "execute_result"
    }
   ],
   "source": [
    "school_county.head()"
   ]
  },
  {
   "cell_type": "code",
   "execution_count": 21,
   "metadata": {},
   "outputs": [
    {
     "data": {
      "image/png": "[encoded data removed]",
      "text/plain": [
       "<matplotlib.figure.Figure at 0x6ca87a53c8>"
      ]
     },
     "metadata": {},
     "output_type": "display_data"
    }
   ],
   "source": [
    "# Set x values\n",
    "x_values = np.arange(len(school_county))\n",
    "# Set figure size to adjust for space\n",
    "plt.figure(figsize=(50,10))\n",
    "#Plot the data:\n",
    "my_colors = 'rgbkymc'\n",
    "# Create a bar chart\n",
    "plt.bar(x_values,school_county[\"Avg_Percentage_Standard_Met\"], color=my_colors, alpha=0.75, width=0.25, edgecolor='black')\n",
    "# Create ticks\n",
    "plt.xticks(x_values,school_county[\"County\"], rotation=\"vertical\")\n",
    "\n",
    "# Set x and y limits\n",
    "plt.xlim(-1,len(x_values))\n",
    "plt.ylim(0,80)\n",
    "\n",
    "#plt.plot()\n",
    "\n",
    "#county_crime_merged_data.plot(x='County', y='Crime_rate')\n",
    "\n",
    "#ax = county_crime_merged_data[['County', 'Crime_rate']].plot(x='County', linestyle='-', marker='o')\n",
    "#school_county[['County', 'Avg_Percentage_Standard_Met']].plot(x='County', kind='bar', ax=ax)\n",
    "\n",
    "#school_county[['County', 'Avg_Percentage_Standard_Met']].plot(x='County', kind='bar')\n",
    "\n",
    "plt.title(\"Countywise school\")\n",
    "plt.ylabel(\"Avg school rating\")\n",
    "#plt.tight_layout()\n",
    "\n",
    "\n",
    "plt.show()\n",
    "\n",
    "\n",
    "\n",
    "\n"
   ]
  },
  {
   "cell_type": "code",
   "execution_count": null,
   "metadata": {
    "collapsed": true
   },
   "outputs": [],
   "source": []
  },
  {
   "cell_type": "code",
   "execution_count": null,
   "metadata": {
    "collapsed": true
   },
   "outputs": [],
   "source": [
    "\n"
   ]
  },
  {
   "cell_type": "code",
   "execution_count": null,
   "metadata": {
    "collapsed": true
   },
   "outputs": [],
   "source": []
  }
 ],
 "metadata": {
  "kernelspec": {
   "display_name": "Python 3",
   "language": "python",
   "name": "python3"
  },
  "language_info": {
   "codemirror_mode": {
    "name": "ipython",
    "version": 3
   },
   "file_extension": ".py",
   "mimetype": "text/x-python",
   "name": "python",
   "nbconvert_exporter": "python",
   "pygments_lexer": "ipython3",
   "version": "3.6.1"
  }
 },
 "nbformat": 4,
 "nbformat_minor": 2
}
